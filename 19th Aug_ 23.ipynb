{
 "cells": [
  {
   "cell_type": "markdown",
   "id": "cdb0d669-af65-49cb-9732-7f1c159752ea",
   "metadata": {},
   "source": [
    "\"Swapping values of x and y without using a temporary variable\""
   ]
  },
  {
   "cell_type": "code",
   "execution_count": 17,
   "id": "e2df09a0-78de-4c85-adec-302b6ff7ae68",
   "metadata": {},
   "outputs": [
    {
     "name": "stdout",
     "output_type": "stream",
     "text": [
      "Before swapping:\n",
      "x = 5\n",
      "y = 10\n",
      "\n",
      "After swapping:\n",
      "x = 10\n",
      "y = 5\n"
     ]
    }
   ],
   "source": [
    "x = 5\n",
    "y = 10\n",
    "\n",
    "print(\"Before swapping:\")\n",
    "print(\"x =\", x)\n",
    "print(\"y =\", y)\n",
    "\n",
    "x = x + y\n",
    "y = x - y\n",
    "x = x - y\n",
    "\n",
    "print(\"\\nAfter swapping:\")\n",
    "print(\"x =\", x)\n",
    "print(\"y =\", y)"
   ]
  },
  {
   "cell_type": "markdown",
   "id": "70cea466-3b87-49f2-9c92-58dee0bba25a",
   "metadata": {},
   "source": [
    "\"Program to calculate the area of a rectangle\""
   ]
  },
  {
   "cell_type": "code",
   "execution_count": 16,
   "id": "91b3f662-edbc-4a49-a408-72e2d785f24d",
   "metadata": {},
   "outputs": [
    {
     "name": "stdin",
     "output_type": "stream",
     "text": [
      "Enter the length of the rectangle:  45\n",
      "Enter the width of the rectangle:  45\n"
     ]
    },
    {
     "name": "stdout",
     "output_type": "stream",
     "text": [
      "The area of the rectangle is: 2025.0\n"
     ]
    }
   ],
   "source": [
    "length = float(input(\"Enter the length of the rectangle: \"))\n",
    "width = float(input(\"Enter the width of the rectangle: \"))\n",
    "\n",
    "area = length * width\n",
    "\n",
    "print(\"The area of the rectangle is:\", area)"
   ]
  },
  {
   "cell_type": "markdown",
   "id": "7ab34018-0406-44b9-aeba-369f9ff6fc84",
   "metadata": {},
   "source": [
    "#\"Program to convert temperature from Celsius to Fahrenheit\""
   ]
  },
  {
   "cell_type": "code",
   "execution_count": 15,
   "id": "6a710fd8-a741-4419-9a3e-99d527ffd8a2",
   "metadata": {},
   "outputs": [
    {
     "name": "stdin",
     "output_type": "stream",
     "text": [
      "Enter temperature in Celsius:  12\n"
     ]
    },
    {
     "name": "stdout",
     "output_type": "stream",
     "text": [
      "Temperature in Fahrenheit: 53.6\n"
     ]
    }
   ],
   "source": [
    "celsius = float(input(\"Enter temperature in Celsius: \"))\n",
    "\n",
    "# Conversion formula: (Celsius * 9/5) + 32 = Fahrenheit\n",
    "fahrenheit = (celsius * 9/5) + 32\n",
    "\n",
    "print(\"Temperature in Fahrenheit:\", fahrenheit)"
   ]
  },
  {
   "cell_type": "markdown",
   "id": "b4c0a588-62eb-473d-abf1-9dd7d1baf98c",
   "metadata": {},
   "source": [
    "#Program to print the length of a string"
   ]
  },
  {
   "cell_type": "code",
   "execution_count": 11,
   "id": "8e027267-d4d3-4f3f-9ba5-96abd82b2d8f",
   "metadata": {},
   "outputs": [
    {
     "name": "stdin",
     "output_type": "stream",
     "text": [
      "Enter a string:  \"sudhanshu\"\n"
     ]
    },
    {
     "name": "stdout",
     "output_type": "stream",
     "text": [
      "Length of the string: 11\n"
     ]
    }
   ],
   "source": [
    "string = input(\"Enter a string: \")\n",
    "print(\"Length of the string:\", len(string))"
   ]
  },
  {
   "cell_type": "markdown",
   "id": "b79ac1e7-ab64-4183-9a98-d14b5b171aa2",
   "metadata": {},
   "source": [
    "#Program to count the number of vowels in a sentence"
   ]
  },
  {
   "cell_type": "code",
   "execution_count": 12,
   "id": "eb5070ca-709f-4622-90a9-59681350e1e7",
   "metadata": {},
   "outputs": [
    {
     "name": "stdin",
     "output_type": "stream",
     "text": [
      "Enter a sentence:  \"python\"\n"
     ]
    },
    {
     "name": "stdout",
     "output_type": "stream",
     "text": [
      "Number of vowels in the sentence: 1\n"
     ]
    }
   ],
   "source": [
    "sentence = input(\"Enter a sentence: \")\n",
    "vowel_count = sum(sentence.count(vowel) for vowel in 'aeiouAEIOU')\n",
    "print(\"Number of vowels in the sentence:\", vowel_count)"
   ]
  },
  {
   "cell_type": "markdown",
   "id": "45128536-d1b6-47b8-b413-3dd386928bac",
   "metadata": {},
   "source": [
    "#Program to reverse the order of characters in a string using slicing"
   ]
  },
  {
   "cell_type": "code",
   "execution_count": 13,
   "id": "62c17a89-1f65-41b0-bcd1-589cca9cecd2",
   "metadata": {},
   "outputs": [
    {
     "name": "stdin",
     "output_type": "stream",
     "text": [
      "Enter a string:  \"pwskills\"\n"
     ]
    },
    {
     "name": "stdout",
     "output_type": "stream",
     "text": [
      "Reversed string: \"sllikswp\"\n"
     ]
    }
   ],
   "source": [
    "string = input(\"Enter a string: \")\n",
    "reversed_string = string[::-1]\n",
    "print(\"Reversed string:\", reversed_string)\n"
   ]
  },
  {
   "cell_type": "markdown",
   "id": "92f24063-fd07-4788-be7c-75e6947586b2",
   "metadata": {},
   "source": [
    "#Program to check if a string is a palindrome"
   ]
  },
  {
   "cell_type": "code",
   "execution_count": 14,
   "id": "117d5056-b4f4-42e1-87e1-69f195515ee8",
   "metadata": {},
   "outputs": [
    {
     "name": "stdin",
     "output_type": "stream",
     "text": [
      "Enter a string:  \"krish naik\"\n"
     ]
    },
    {
     "name": "stdout",
     "output_type": "stream",
     "text": [
      "The string is not a palindrome.\n"
     ]
    }
   ],
   "source": [
    "string = input(\"Enter a string: \")\n",
    "if string == string[::-1]:\n",
    "    print(\"The string is a palindrome.\")\n",
    "else:\n",
    "    print(\"The string is not a palindrome.\")\n"
   ]
  },
  {
   "cell_type": "markdown",
   "id": "5006f7ec-04ea-4b8b-b113-7dddee2b873f",
   "metadata": {},
   "source": [
    "Program to remove spaces from a string\""
   ]
  },
  {
   "cell_type": "code",
   "execution_count": 10,
   "id": "29f15de5-b8a6-4c31-8d56-0774ce5aa66a",
   "metadata": {},
   "outputs": [
    {
     "name": "stdin",
     "output_type": "stream",
     "text": [
      "Enter a string:  \"sudh\"\n"
     ]
    },
    {
     "name": "stdout",
     "output_type": "stream",
     "text": [
      "String without spaces: \"sudh\"\n"
     ]
    }
   ],
   "source": [
    "string = input(\"Enter a string: \")\n",
    "string_without_spaces = string.replace(\" \", \"\")\n",
    "print(\"String without spaces:\", string_without_spaces)"
   ]
  }
 ],
 "metadata": {
  "kernelspec": {
   "display_name": "Python 3 (ipykernel)",
   "language": "python",
   "name": "python3"
  },
  "language_info": {
   "codemirror_mode": {
    "name": "ipython",
    "version": 3
   },
   "file_extension": ".py",
   "mimetype": "text/x-python",
   "name": "python",
   "nbconvert_exporter": "python",
   "pygments_lexer": "ipython3",
   "version": "3.10.8"
  }
 },
 "nbformat": 4,
 "nbformat_minor": 5
}
